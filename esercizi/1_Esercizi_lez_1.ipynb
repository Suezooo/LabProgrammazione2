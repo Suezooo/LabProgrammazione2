{
 "cells": [
  {
   "cell_type": "markdown",
   "metadata": {},
   "source": [
    "### **1. Trasformare cicli in list comprehension**\n",
    "\n",
    "Fai tre esempi di cicli producono una lista e poi riscrivi lo stesso codice usando la list comprehension"
   ]
  },
  {
   "cell_type": "code",
   "execution_count": 3,
   "metadata": {},
   "outputs": [
    {
     "name": "stdout",
     "output_type": "stream",
     "text": [
      "[0, 1, 2, 3, 4, 5, 6, 7, 8, 9]\n",
      "[0, 1, 2, 3, 4, 5, 6, 7, 8, 9]\n",
      "['p', 'a', 'r', 'o', 'l', 'a']\n",
      "['p', 'a', 'r', 'o', 'l', 'a']\n",
      "[6, 9, 12, 15, 18]\n",
      "[6, 9, 12, 15, 18]\n"
     ]
    }
   ],
   "source": [
    "import numpy as np\n",
    "# 1\n",
    "lista = []\n",
    "for i in range(10):\n",
    "    lista.append(i)\n",
    "print(lista)\n",
    "\n",
    "lista = [i for i in range(10)]\n",
    "print(lista)\n",
    "\n",
    "# 2\n",
    "lista = []\n",
    "for i in \"parola\":\n",
    "    lista.append(i)\n",
    "print(lista)\n",
    "\n",
    "lista = [i for i in \"parola\"]\n",
    "print(lista)\n",
    "\n",
    "# 3\n",
    "lista = []\n",
    "for i in range(20):\n",
    "    if(i%3 == 0 and i>3):\n",
    "        lista.append(i)\n",
    "print(lista)\n",
    "\n",
    "lista = [i for i in range(20) if i%3 == 0 and i>3]\n",
    "print(lista)"
   ]
  },
  {
   "cell_type": "markdown",
   "metadata": {},
   "source": [
    "### **2. Vettore di Numeri Primi**\n",
    "\n",
    "1. **Crea un vettore** contenente tutti i numeri primi compresi tra **0 e 10**  \n",
    "   _(Puoi scriverli direttamente nell'array)._\n",
    "\n",
    "2. **Conta quanti numeri ci sono nel vettore** utilizzando la funzione `len()`.  **Ottieni lo stesso numero** accedendo all'attributo `.size` del vettore.\n",
    "\n",
    "3. Quale pensi sia il tipo di dato (`dtype`) del vettore?  Prova a rispondere senza eseguire il codice e Verifica la tua risposta accedendo all'attributo `.dtype` del vettore\n",
    "\n",
    "4. Scrivi l'array usando una list comprehension che controlla che i numeri siano primi. "
   ]
  },
  {
   "cell_type": "code",
   "execution_count": 17,
   "metadata": {},
   "outputs": [
    {
     "name": "stdout",
     "output_type": "stream",
     "text": [
      "[1 2 3 4 5 6 7 8 9]\n",
      "9\n",
      "9\n",
      "[1. 2. 3. 4. 5. 6. 7. 8. 9.]\n",
      "int32\n",
      "float64\n",
      "[2, 3, 5, 7, 11, 13, 17, 19, 23, 29, 31, 37, 41, 43, 47]\n"
     ]
    }
   ],
   "source": [
    "#1\n",
    "numeri = np.arange(1,10,1)\n",
    "print(numeri)\n",
    "#2\n",
    "print(len(numeri))\n",
    "print(numeri.size)\n",
    "#3 se non ricordo male avendo usato degli int in np.arange() dovrebbero essere int e se faccio\n",
    "numeri2 = np.arange(1.0,10.0,1.0)\n",
    "print(numeri2)\n",
    "print(numeri.dtype)\n",
    "print(numeri2.dtype)\n",
    "# 4\n",
    "numeri3 = [i for i in range(1,50) if((all(i%j != 0 for j in range(2,i)) or i == 2) and i > 1)]\n",
    "print(numeri3)"
   ]
  },
  {
   "cell_type": "markdown",
   "metadata": {},
   "source": [
    "### **3.  Operazioni su array**\n",
    "Crea un array **a**, 1D (senza digitarlo esplicitamente), e genera due nuovi array **b**, contenente una sottostringa a piacere e **c** che è il reverse dell'array **a** (esempio [1,2,3] diventa [3,2,1]) .  Dividi l'array **a** per l'array **c**. Fai la stessa cosa per una lista."
   ]
  },
  {
   "cell_type": "code",
   "execution_count": 16,
   "metadata": {},
   "outputs": [
    {
     "name": "stdout",
     "output_type": "stream",
     "text": [
      "[1 2 3 4 5 6 7 8 9]\n",
      "[4 5 6]\n",
      "[9 8 7 6 5 4 3 2 1]\n",
      "[0.11111111 0.25       0.42857143 0.66666667 1.         1.5\n",
      " 2.33333333 4.         9.        ]\n",
      "[1, 2, 3, 4, 5, 6, 7, 8, 9]\n",
      "[4, 5, 6]\n",
      "[9, 8, 7, 6, 5, 4, 3, 2, 1]\n",
      "[0.1111111111111111, 0.25, 0.42857142857142855, 0.6666666666666666, 1.0, 1.5, 2.3333333333333335, 4.0, 9.0]\n"
     ]
    }
   ],
   "source": [
    "a = np.arange(1,10)\n",
    "print(a)\n",
    "b = a[3:6]\n",
    "print(b)\n",
    "# non so se va bene creare l'array inverso così ma non è specificato come\n",
    "c = np.arange(9,0,-1)\n",
    "print(c)\n",
    "# okay ho visto che esiste .flip \n",
    "print(a/c)\n",
    "\n",
    "al = []\n",
    "for i in range(1,10):\n",
    "    al.append(i)\n",
    "print(al)\n",
    "bl = al[3:6]\n",
    "print(bl)\n",
    "cl = al[::-1]\n",
    "print(cl)\n",
    "risultato = []\n",
    "for i in range(len(al)):\n",
    "    risultato.append(al[i]/cl[i])\n",
    "print(risultato)"
   ]
  }
 ],
 "metadata": {
  "kernelspec": {
   "display_name": "base",
   "language": "python",
   "name": "python3"
  },
  "language_info": {
   "codemirror_mode": {
    "name": "ipython",
    "version": 3
   },
   "file_extension": ".py",
   "mimetype": "text/x-python",
   "name": "python",
   "nbconvert_exporter": "python",
   "pygments_lexer": "ipython3",
   "version": "3.12.7"
  }
 },
 "nbformat": 4,
 "nbformat_minor": 2
}

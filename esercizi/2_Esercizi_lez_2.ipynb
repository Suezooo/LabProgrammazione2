{
 "cells": [
  {
   "cell_type": "markdown",
   "metadata": {},
   "source": [
    "### **1. Indicizzazione booleana**\n",
    "\n",
    "1. Creare un nuovo vettore con tutti i numeri primi tra 0 e 20. I numeri primi compresi tra 0 e 20 sono: **2, 3, 5, 7, 11, 13, 17, 19**.\n",
    "\n",
    "2. Utilizza un test logico (ad esempio `>`, `<`, `==`, `!=`) per **selezionare tutte le voci del vettore maggiori di 10**.\n",
    "\n",
    "3. Utilizza un test logico per selezionare **tutti i numeri primi pari** dalla lista.  \n"
   ]
  },
  {
   "cell_type": "code",
   "execution_count": 9,
   "metadata": {},
   "outputs": [
    {
     "name": "stdout",
     "output_type": "stream",
     "text": [
      "[False False False False  True  True  True  True]\n",
      "[11 13 17 19]\n",
      "[ True False False False False False False False]\n",
      "[2]\n"
     ]
    }
   ],
   "source": [
    "# 1\n",
    "import numpy as np\n",
    "numeri = [i for i in range(2,20) if(all(i%j != 0 for j in range(2,i)))]\n",
    "numeri = np.array(numeri)\n",
    "\n",
    "# 2\n",
    "print(numeri>10)\n",
    "print(numeri[numeri>10])\n",
    "\n",
    "# 3\n",
    "print(numeri%2 == 0)\n",
    "print(numeri[numeri%2 == 0])"
   ]
  },
  {
   "cell_type": "markdown",
   "metadata": {},
   "source": [
    "### **2.  Operazioni su array**\n",
    "Crea un array **a**, 2D (senza digitarlo esplicitamente), e genera due nuovi array **b**, contenente la sua 2ª e 4ª riga, e **c** contenente solo la 3ª.  Dividi ogni colonna dell'array a, elemento per elemento, con l'array c."
   ]
  },
  {
   "cell_type": "code",
   "execution_count": 22,
   "metadata": {},
   "outputs": [
    {
     "name": "stdout",
     "output_type": "stream",
     "text": [
      "[[ 0  1  2  3  4  5  6  7  8  9]\n",
      " [10 11 12 13 14 15 16 17 18 19]\n",
      " [20 21 22 23 24 25 26 27 28 29]\n",
      " [30 31 32 33 34 35 36 37 38 39]\n",
      " [40 41 42 43 44 45 46 47 48 49]\n",
      " [50 51 52 53 54 55 56 57 58 59]\n",
      " [60 61 62 63 64 65 66 67 68 69]\n",
      " [70 71 72 73 74 75 76 77 78 79]\n",
      " [80 81 82 83 84 85 86 87 88 89]\n",
      " [90 91 92 93 94 95 96 97 98 99]]\n",
      "\n",
      "\n",
      "[[10 11 12 13 14 15 16 17 18 19]\n",
      " [30 31 32 33 34 35 36 37 38 39]]\n",
      "\n",
      "\n",
      "[20 21 22 23 24 25 26 27 28 29]\n",
      "\n",
      "\n",
      "[[0.         0.04761905 0.09090909 0.13043478 0.16666667 0.2\n",
      "  0.23076923 0.25925926 0.28571429 0.31034483]\n",
      " [0.5        0.52380952 0.54545455 0.56521739 0.58333333 0.6\n",
      "  0.61538462 0.62962963 0.64285714 0.65517241]\n",
      " [1.         1.         1.         1.         1.         1.\n",
      "  1.         1.         1.         1.        ]\n",
      " [1.5        1.47619048 1.45454545 1.43478261 1.41666667 1.4\n",
      "  1.38461538 1.37037037 1.35714286 1.34482759]\n",
      " [2.         1.95238095 1.90909091 1.86956522 1.83333333 1.8\n",
      "  1.76923077 1.74074074 1.71428571 1.68965517]\n",
      " [2.5        2.42857143 2.36363636 2.30434783 2.25       2.2\n",
      "  2.15384615 2.11111111 2.07142857 2.03448276]\n",
      " [3.         2.9047619  2.81818182 2.73913043 2.66666667 2.6\n",
      "  2.53846154 2.48148148 2.42857143 2.37931034]\n",
      " [3.5        3.38095238 3.27272727 3.17391304 3.08333333 3.\n",
      "  2.92307692 2.85185185 2.78571429 2.72413793]\n",
      " [4.         3.85714286 3.72727273 3.60869565 3.5        3.4\n",
      "  3.30769231 3.22222222 3.14285714 3.06896552]\n",
      " [4.5        4.33333333 4.18181818 4.04347826 3.91666667 3.8\n",
      "  3.69230769 3.59259259 3.5        3.4137931 ]]\n"
     ]
    }
   ],
   "source": [
    "a = np.arange(100).reshape(10,10)\n",
    "print(a)\n",
    "\n",
    "print(\"\\n\")\n",
    "\n",
    "b = a[1:4:2,]\n",
    "print(b)\n",
    "\n",
    "print(\"\\n\")\n",
    "\n",
    "c = a[2,]\n",
    "print(c)\n",
    "\n",
    "print(\"\\n\")\n",
    "\n",
    "print(a/c)\n"
   ]
  },
  {
   "cell_type": "markdown",
   "metadata": {},
   "source": [
    "### **3. Seleziona il numero più vicino a 0.5 in un array casuale**\n",
    "Genera un array 10 x 3 con numeri casuali nell'intervallo [0,1].\n",
    "Per ogni riga, seleziona il numero più vicino a 0.5. Per farlo usa il fancy indexing."
   ]
  },
  {
   "cell_type": "code",
   "execution_count": null,
   "metadata": {},
   "outputs": [
    {
     "name": "stdout",
     "output_type": "stream",
     "text": [
      "[[0.7421828  0.50253468 0.53216841]\n",
      " [0.19163678 0.4442755  0.60192612]\n",
      " [0.66233783 0.55344458 0.94755023]\n",
      " [0.2866425  0.5550251  0.08393354]\n",
      " [0.95831679 0.34460992 0.02834502]\n",
      " [0.16339823 0.01641858 0.96943838]\n",
      " [0.34973266 0.22134225 0.4378988 ]\n",
      " [0.11028257 0.06144167 0.76715358]\n",
      " [0.62150227 0.09345214 0.64366661]\n",
      " [0.21070848 0.55939889 0.92193425]]\n"
     ]
    },
    {
     "data": {
      "text/plain": [
       "array([0.50253468, 0.4442755 , 0.55344458, 0.5550251 , 0.34460992,\n",
       "       0.16339823, 0.4378988 , 0.76715358, 0.62150227, 0.55939889])"
      ]
     },
     "execution_count": 29,
     "metadata": {},
     "output_type": "execute_result"
    }
   ],
   "source": [
    "a = np.random.rand(10,3)\n",
    "print(a)\n",
    "\n",
    "colonna = np.abs(a-0.5).argmin(axis=1)\n",
    "riga = np.arange(10)\n",
    "\n",
    "a[riga,colonna]"
   ]
  },
  {
   "cell_type": "markdown",
   "metadata": {},
   "source": [
    "### **4. Analisi della Frequenza Cardiaca con NumPy**\n",
    "\n",
    "1. **Supponiamo che i seguenti valori rappresentino la tua frequenza cardiaca** registrata dal tuo Fitbit durante la giornata:  \n",
    "   `68, 65, 77, 110, 160, 161, 162, 161, 160, 161, 162, 163, 164, 163, 162, 100, 90, 97, 72, 60, 70`  \n",
    "   Inserisci questi valori in un array NumPy.\n",
    "\n",
    "2. **Trova la frequenza cardiaca minima** registrata durante la giornata.  \n",
    "   _(Questo valore rappresenta approssimativamente la tua frequenza cardiaca a riposo, un comune indicatore di salute.)_\n",
    "\n",
    "3. **Trova la frequenza cardiaca massima** registrata durante la giornata.  \n",
    "   _(Questo valore è un'indicazione dell'intensità dell'esercizio fisico.)_\n",
    "\n",
    "4. **Calcoliamo la percentuale di letture effettuate mentre stavi facendo esercizio fisico (frequenza cardiaca sopra a 120)**:  \n",
    "   - Crea un nuovo array che contiene `True` quando la frequenza cardiaca è **superiore a 120**, e `False` quando è **inferiore o uguale a 120**.\n",
    "   - Utilizza una funzione di sintesi per calcolare la percentuale di osservazioni in cui la tua frequenza cardiaca era sopra 120.\n"
   ]
  },
  {
   "cell_type": "code",
   "execution_count": null,
   "metadata": {},
   "outputs": [
    {
     "name": "stdout",
     "output_type": "stream",
     "text": [
      "[ 68  65  77 110 160 161 162 161 160 161 162 163 164 163 162 100  90  97\n",
      "  72  60  70]\n",
      "60\n",
      "164\n",
      "52.38095238095239\n",
      "[False False False False  True  True  True  True  True  True  True  True\n",
      "  True  True  True False False False False False False]\n"
     ]
    },
    {
     "data": {
      "text/plain": [
       "52.38095238095239"
      ]
     },
     "execution_count": 48,
     "metadata": {},
     "output_type": "execute_result"
    }
   ],
   "source": [
    "# 1\n",
    "freq = np.array([68, 65, 77, 110, 160, 161, 162, 161, 160, 161, 162, 163, 164, 163, 162, 100, 90, 97, 72, 60, 70])\n",
    "print(freq)\n",
    "\n",
    "# 2\n",
    "print(np.min(freq))\n",
    "\n",
    "# 3\n",
    "print(np.max(freq))\n",
    "\n",
    "# 4\n",
    "print((len(freq[freq>120])/len(freq))*100)\n",
    "\n",
    "# 4 ma con le righieste (funzione di sintesi?)\n",
    "a = freq>120\n",
    "print(a)\n",
    "np.mean(a)*100 # conta mean come funzione di sintesi?"
   ]
  },
  {
   "cell_type": "markdown",
   "metadata": {},
   "source": [
    "### **5. Manipolazione di vettori**\n",
    "\n",
    "1. Creare un vettore contenente i seguenti stipendi: **50.000, 105.250, 55.000, 89.000**.  \n",
    "Qual è il costo totale del personale (somma di tutti gli stipendi dell'azienda)?\n",
    "\n",
    "2. Supponiamo che il nostro malvagio CEO abbia deciso di darsi un aumento.  \n",
    "Modifica il vettore degli stipendi in modo che il CEO, la persona che guadagna **105.250 dollari**, riceva un aumento del **15%**.\n",
    "\n",
    "3. Il **115%** di **105.250 dollari** è **121.037,50 dollari**.  \n",
    "Questo valore è presente nel tuo array? Se no, riesci a capire il motivo?\n",
    "\n",
    "4. Ricrea il vettore e utilizza l'argomento **`dtype`** in modo che, quando il CEO riceve un aumento del **15%**, il suo stipendio finale sia esattamente **121.037,50 dollari**.\n",
    "\n",
    "5. Questo aumento ha infastidito l'impiegata con lo stipendio più basso (**50.000 dollari**), che ora pretende un aumento del **20%**.  \n",
    "Modifica il vettore per riflettere questo cambiamento.\n",
    "\n",
    "6. L'aumento dato al CEO e all'impiegata ha irritato gli altri due dipendenti, quindi ora devono ricevere un aumento del **10%**.  \n",
    "Modifica il vettore di conseguenza.\n",
    "\n",
    "7. Calcola il **costo totale del personale** dopo tutti gli aumenti.  \n",
    "Alla fine, quanto è costato all'azienda l'aumento di circa **16.000 dollari** del CEO?\n"
   ]
  },
  {
   "cell_type": "code",
   "execution_count": null,
   "metadata": {},
   "outputs": [
    {
     "name": "stdout",
     "output_type": "stream",
     "text": [
      "--1--\n",
      "[ 50000 105250  55000  89000]\n",
      "299250\n",
      "int32\n",
      "--2--\n",
      "float64\n",
      "[ 50000.  121037.5  55000.   89000. ]\n",
      "--4--\n",
      "[ 50000.  121037.5  55000.   89000. ]\n",
      "--5--\n",
      "[ 60000.  121037.5  55000.   89000. ]\n",
      "--6--\n",
      "[ 60000.  121037.5  60500.   97900. ]\n",
      "--7--\n",
      "339437.5\n",
      "40187.5\n"
     ]
    }
   ],
   "source": [
    "#1\n",
    "a = np.array([50000,105250,55000,89000])\n",
    "print(\"--1--\")\n",
    "print(a)\n",
    "costoprima = np.sum(a)\n",
    "print(costoprima)\n",
    "print(a.dtype)\n",
    "# 2\n",
    "print(\"--2--\")\n",
    "a = np.where(a == 105250, a*1.15,a)\n",
    "print(a.dtype)\n",
    "print(a)\n",
    "#3 sinceramente non sto capendo, si è presente, probabilmente moltiplicando per 1.15 ha cambiato il tipo dell'array\n",
    "# 4\n",
    "print(\"--4--\")\n",
    "b = np.array([50000,105250,55000,89000], dtype = np.float64)\n",
    "b = np.where(b == 105250, b*1.15,b)\n",
    "print(b)\n",
    "#5\n",
    "print(\"--5--\")\n",
    "a = np.where(a == 50000, a*1.2,a)\n",
    "print(a)\n",
    "# 6\n",
    "print(\"--6--\")\n",
    "originale = np.array([50000,105250,55000,89000])\n",
    "a = np.where(a == originale, a*1.1,a)\n",
    "print(a)\n",
    "#7\n",
    "print(\"--7--\")\n",
    "costodopo = np.sum(a)\n",
    "print(costodopo)\n",
    "print(costodopo - costoprima) # un po'"
   ]
  },
  {
   "cell_type": "markdown",
   "metadata": {},
   "source": [
    "### **6. Valori di Co2**\n",
    "\n",
    "1. Carica tramite numpy il file generato e salvato a lezione sulle emissioni di CO2\n",
    "\n",
    "2. Calcola quanti valori ci CO2 sono sopra la soglia di 18  tonnellate per anno ed il loro valore medio\n",
    "\n",
    "3. Calcola la frazione totale di emissione sopra la soglia (somma totale sopra la soglia/somma totale)"
   ]
  },
  {
   "cell_type": "code",
   "execution_count": 7,
   "metadata": {},
   "outputs": [
    {
     "name": "stdout",
     "output_type": "stream",
     "text": [
      "--1--\n",
      "[ 7.01  4.86  4.27 14.39 13.03 13.27 18.43  5.63 17.54 11.75 18.1   7.88\n",
      " 11.44  7.39 15.75  6.66 10.5   5.13 16.39  6.2  13.13 18.72 18.16 18.03\n",
      " 17.37 15.9  14.21 12.16 14.13 12.56 15.94 12.91 18.21  8.22 12.   13.55\n",
      "  9.94 19.82 14.75 19.41 11.7   6.76 18.72  9.66  5.42  6.64 18.27 17.38\n",
      " 14.45 15.36 15.41 11.23 16.62  7.54 17.37  8.71 13.59  8.63 15.14  6.08\n",
      " 16.05 16.45 11.62 12.34  8.12 13.86 18.48 11.07  8.72  6.08 17.87  8.32\n",
      "  4.02 18.07 17.63 18.04 15.42 18.33 16.58 16.23 16.4  17.8  10.91 18.26\n",
      "  9.93 10.45 10.43  8.19 19.95 15.42 16.02  9.03  4.25 11.14 14.21 14.16\n",
      "  4.12 14.82 18.22  9.72 10.91  6.43  9.43 11.36 15.9   5.63 18.7   6.31\n",
      " 19.44  9.46  9.16 12.99 15.72 14.76  4.8  19.49 10.5  16.38  8.59  5.11\n",
      " 15.58 17.69 17.69 17.4  10.71 17.54 14.18 15.1   8.22 17.07 11.21 11.34\n",
      "  7.87 18.52  7.23  4.02 17.3  13.65  4.93 17.82 19.46 19.01 14.39 10.59\n",
      " 10.64  5.31 13.37  5.66  8.86 16.94 13.07 12.54 19.3  17.83  7.57 13.33\n",
      " 12.6   8.24 16.27 10.99  8.77 11.34 16.38 18.66 13.41 16.94  7.07 18.36\n",
      " 14.96 14.22 15.92 17.27  5.42 13.59 17.87  5.6  17.36  8.02 17.71 13.04\n",
      " 17.76 13.9   8.73 13.22  7.5   7.42 19.02 19.41 13.21 15.79 12.98 18.21\n",
      " 14.54  7.21 17.29  5.49  7.02 11.7  15.5  10.32]\n",
      "--2--\n",
      "Quante emissioni sono maggiori di 18 tonnellate: 29\n",
      "Media delle emissioni sopra le 18 tonnellate:  18.717241379310348\n",
      "--3--\n",
      "0.21150331789011026\n"
     ]
    }
   ],
   "source": [
    "# 1\n",
    "print(\"--1--\")\n",
    "import numpy as np\n",
    "emissioni = np.loadtxt(\"../data/emissioni.txt\")\n",
    "print(emissioni)\n",
    "\n",
    "# 2\n",
    "print(\"--2--\")\n",
    "print(\"Quante emissioni sono maggiori di 18 tonnellate:\", len(emissioni[emissioni>18.00]))\n",
    "print(\"Media delle emissioni sopra le 18 tonnellate: \", np.mean(emissioni[emissioni>18.00]))\n",
    "\n",
    "#3\n",
    "print(\"--3--\")\n",
    "print(np.sum(emissioni[emissioni>18.00])/np.sum(emissioni))\n"
   ]
  },
  {
   "cell_type": "markdown",
   "metadata": {},
   "source": [
    "### **7. Analisi di una matrice**\n",
    "Data la matrice survey con età, reddito e anni di istruzione\n",
    "\n",
    "survey_matrix = np.array([\n",
    "    [25, 40000, 10],\n",
    "    [32, 52000, 12],\n",
    "    [40, 63000, 14],\n",
    "    [29, 47000, 11],\n",
    "    [35, 58000, 13]\n",
    "])\n",
    "\n",
    "\n",
    "1. Seleziona dalla matrice solo gli intervistati con **almeno 12 anni di istruzione** utilizzando un test logico.\n",
    "\n",
    "2. In un'unica riga di codice, seleziona i **redditi** degli intervistati con **almeno 12 anni di istruzione**.\n",
    "\n",
    "3. In un'unica riga di codice, calcola il **reddito medio** degli intervistati con **almeno 12 anni di istruzione**.\n"
   ]
  },
  {
   "cell_type": "code",
   "execution_count": 24,
   "metadata": {},
   "outputs": [
    {
     "name": "stdout",
     "output_type": "stream",
     "text": [
      "--1--\n",
      "[[   40 63000    14]\n",
      " [   35 58000    13]]\n",
      "--2--\n",
      "[63000 58000]\n",
      "--3--\n",
      "20183.666666666668\n"
     ]
    }
   ],
   "source": [
    "survey_matrix = np.array([\n",
    "    [25, 40000, 10],\n",
    "    [32, 52000, 12],\n",
    "    [40, 63000, 14],\n",
    "    [29, 47000, 11],\n",
    "    [35, 58000, 13]\n",
    "])\n",
    "# 1\n",
    "print(\"--1--\")\n",
    "print(survey_matrix[survey_matrix[:,2]>12,:])\n",
    "\n",
    "# 2\n",
    "print(\"--2--\")\n",
    "print(survey_matrix[survey_matrix[:,2]>12,1])\n",
    "\n",
    "# 2\n",
    "print(\"--3--\")\n",
    "print(np.mean(survey_matrix[survey_matrix[:,2]>12,:]))"
   ]
  },
  {
   "cell_type": "markdown",
   "metadata": {},
   "source": [
    "### **8. Rimpiazzare gli outliers**\n",
    "\n",
    "Vediamo se possiamo ripulire alcuni dati mancanti. Immagina di essere il responsabile dei registri di un comune locale con **500 cittadini** di **55 anni e oltre**.  \n",
    "\n",
    "La città è famosa per la sua longevità e un team di ricercatori ti ha chiesto di identificare **il cittadino più anziano**.  \n",
    "\n",
    "Il problema è che, occasionalmente, nei registri si verificano errori e in quei casi viene inserita l'età **999** invece dell'età corretta.  \n",
    "\n",
    "Rimuovi i dati errati dall'array e determina l'età del cittadino più anziano.\n"
   ]
  },
  {
   "cell_type": "code",
   "execution_count": 32,
   "metadata": {},
   "outputs": [
    {
     "name": "stdout",
     "output_type": "stream",
     "text": [
      "[ 92. 108.  75.  63.  62.  66.  90.  98.  97.  92.  60. 107.  90.  71.\n",
      "  97.  86.  55.  55.  98.  57.  96. 104.  96.  94.  72.  98. 111.  98.\n",
      "  89.  69.  77.  92.  85. 101.  93. 100.  90. 101.  96.  98.  nan  87.\n",
      " 106.  86. 108.  55.  67.  65.  68.  59.  67.  72.  57.  79.  95.  67.\n",
      "  86.  70.  91. 111.  67.  75.  59.  88.  90.  99.  94.  65. 111. 103.\n",
      " 100.  70.  63.  65. 100. 110.  nan  70.  57.  75.  56. 104. 111.  90.\n",
      "  74. 100.  90.  86.  88.  99.  58. 103.  88. 103.  64.  96. 105.  89.\n",
      "  83.  65. 100.  62.  73. 105.  83. 105.  58.  96.  77.  74.  95. 109.\n",
      "  91. 101.  91.  nan  63. 111.  97. 108.  75.  77.  73.  58.  94.  83.\n",
      "  90.  61. 110. 107. 105.  85.  64.  66.  71. 107. 105.  72.  78.  66.\n",
      " 100. 102.  72.  nan  74.  68.  73.  72.  90.  93.  99.  55.  92.  83.\n",
      "  58.  71.  89.  75.  98.  87.  nan  78.  97.  71. 106.  83.  58.  81.\n",
      " 100.  72.  93.  70.  65.  60.  95. 107.  94.  77.  87.  90.  82.  56.\n",
      "  99. 107.  86.  56.  73.  96.  64.  69.  64.  92.  57. 104. 110.  69.\n",
      "  66.  68.  84.  89.  72.  80.  55.  75.  87.  57. 106.  69.  66.  62.\n",
      " 102.  76. 111.  nan  96.  83.  84.  61. 102.  63. 107.  63.  76.  58.\n",
      "  83.  58.  61.  71.  77.  90.  74. 100. 103.  74.  92. 102.  63.  87.\n",
      "  93.  61.  63.  86.  74.  98.  64.  nan  78.  95.  84.  81. 107.  85.\n",
      "  79.  82.  89.  65. 107.  57.  74.  77.  97.  92.  58.  96. 105.  60.\n",
      "  55.  74.  57.  80.  62.  85.  87.  62.  nan  71.  74.  70.  97.  59.\n",
      "  82.  96. 105.  70.  89. 105.  60.  70.  87.  nan  64. 108. 107. 104.\n",
      "  85.  95. 108.  74.  64.  97.  89.  88.  79.  67.  81.  92.  63.  80.\n",
      "  76.  94. 104.  67.  73.  61.  99.  96.  68.  90.  86.  79.  85. 111.\n",
      "  75.  98.  81. 111. 108. 103.  85.  72. 108. 102.  nan  64. 107. 112.\n",
      "  66.  93.  89.  78.  66.  92.  63. 101.  92.  64.  72.  56.  71.  64.\n",
      "  87.  78. 107.  85. 109.  95.  69. 111.  64.  72.  55.  66.  99.  57.\n",
      "  78.  55.  58.  90.  88.  71.  90. 103.  92.  98.  67.  97.  77.  68.\n",
      "  77.  59.  78.  69.  77.  81.  61.  99.  nan  85.  78. 104.  97.  95.\n",
      "  74.  70.  69.  83.  68.  68.  77.  60.  85.  82.  93.  66.  71.  62.\n",
      "  64. 107.  nan  65.  78.  59.  83.  67. 108.  58.  95. 106.  83.  79.\n",
      "  67.  59.  96.  90.  55.  55.  96. 109.  82.  55. 101.  58.  97.  77.\n",
      "  60.  81.  nan  81.  75. 100.  66.  65. 105.  94. 101.  56.  nan  59.\n",
      " 105.  59.  93.  56. 104.  74.  81.  62.  76.  65. 107.  60. 107.  98.\n",
      "  77.  86.  83. 104.  74.  69.  97.  80.  91.  56. 108.  87.  65.  91.\n",
      "  93.  60.  91. 110. 107.  88.  96.  70.  60.  99.  66.  91. 107.  65.\n",
      "  81. 109.  84. 106.  80.  92.  78.  84.  91.  59.]\n"
     ]
    },
    {
     "data": {
      "text/plain": [
       "112.0"
      ]
     },
     "execution_count": 32,
     "metadata": {},
     "output_type": "execute_result"
    }
   ],
   "source": [
    "ages = np.array([92, 108, 75, 63, 62, 66, 90, 98, 97, 92, 60, 107, 90, 71, 97, 86, 55, 55,\n",
    "                 98, 57, 96, 104, 96, 94, 72, 98, 111, 98, 89, 69, 77, 92, 85, 101, 93, 100,\n",
    "                 90, 101, 96, 98, 999, 87, 106, 86, 108, 55, 67, 65, 68, 59, 67, 72, 57, 79,\n",
    "                 95, 67, 86, 70, 91, 111, 67, 75, 59, 88, 90, 99, 94, 65, 111, 103, 100, 70,\n",
    "                 63, 65, 100, 110, 999, 70, 57, 75, 56, 104, 111, 90, 74, 100, 90, 86, 88, 99,\n",
    "                 58, 103, 88, 103, 64, 96, 105, 89, 83, 65, 100, 62, 73, 105, 83, 105, 58, 96,\n",
    "                 77, 74, 95, 109, 91, 101, 91, 999, 63, 111, 97, 108, 75, 77, 73, 58, 94, 83,\n",
    "                 90, 61, 110, 107, 105, 85, 64, 66, 71, 107, 105, 72, 78, 66, 100, 102, 72, 999,\n",
    "                 74, 68, 73, 72, 90, 93, 99, 55, 92, 83, 58, 71, 89, 75, 98, 87, 999, 78,\n",
    "                 97, 71, 106, 83, 58, 81, 100, 72, 93, 70, 65, 60, 95, 107, 94, 77, 87, 90,\n",
    "                 82, 56, 99, 107, 86, 56, 73, 96, 64, 69, 64, 92, 57, 104, 110, 69, 66, 68,\n",
    "                 84, 89, 72, 80, 55, 75, 87, 57, 106, 69, 66, 62, 102, 76, 111, 999, 96, 83,\n",
    "                 84, 61, 102, 63, 107, 63, 76, 58, 83, 58, 61, 71, 77, 90, 74, 100, 103, 74,\n",
    "                 92, 102, 63, 87, 93, 61, 63, 86, 74, 98, 64, 999, 78, 95, 84, 81, 107, 85,\n",
    "                 79, 82, 89, 65, 107, 57, 74, 77, 97, 92, 58, 96, 105, 60, 55, 74, 57, 80,\n",
    "                 62, 85, 87, 62, 999, 71, 74, 70, 97, 59, 82, 96, 105, 70, 89, 105, 60, 70,\n",
    "                 87, 999, 64, 108, 107, 104, 85, 95, 108, 74, 64, 97, 89, 88, 79, 67, 81, 92,\n",
    "                 63, 80, 76, 94, 104, 67, 73, 61, 99, 96, 68, 90, 86, 79, 85, 111, 75, 98,\n",
    "                 81, 111, 108, 103, 85, 72, 108, 102, 999, 64, 107, 112, 66, 93, 89, 78, 66, 92,\n",
    "                 63, 101, 92, 64, 72, 56, 71, 64, 87, 78, 107, 85, 109, 95, 69, 111, 64, 72,\n",
    "                 55, 66, 99, 57, 78, 55, 58, 90, 88, 71, 90, 103, 92, 98, 67, 97, 77, 68,\n",
    "                 77, 59, 78, 69, 77, 81, 61, 99, 999, 85, 78, 104, 97, 95, 74, 70, 69, 83,\n",
    "                 68, 68, 77, 60, 85, 82, 93, 66, 71, 62, 64, 107, 999, 65, 78, 59, 83, 67,\n",
    "                 108,  58,  95, 106,  83,  79,  67,  59,  96,  90,  55,  55,  96, 109,  82,  55, 101,  58,\n",
    "                 97, 77, 60, 81, 999, 81, 75, 100, 66, 65, 105, 94, 101, 56, 999, 59, 105, 59,\n",
    "                 93, 56, 104, 74, 81, 62, 76, 65, 107, 60, 107, 98, 77, 86, 83, 104, 74, 69,\n",
    "                 97, 80, 91, 56, 108, 87, 65, 91, 93, 60, 91, 110, 107, 88, 96, 70, 60, 99,\n",
    "                 66, 91, 107, 65, 81, 109, 84, 106, 80, 92, 78, 84, 91, 59])\n",
    "ages = np.where(ages == 999, np.nan, ages)\n",
    "print(ages)\n",
    "\n",
    "np.max(ages) #non capisco perché non vada sinceramente\n",
    "# allora magari dovevo creare un nuovo array, io ho interpretato così la richiesta\n",
    "# Sostituire i dati errati con un nan mi sembra la soluzione migliore\n",
    "\n",
    "np.nanmax(ages)"
   ]
  },
  {
   "cell_type": "markdown",
   "metadata": {},
   "source": [
    "### 9.**Generazione random di storie**\n",
    "\n",
    "Usando la lista qui sotto, estrai casualmente **5 parole con reinserimento** (cioè, i duplicati sono ammessi).  \n",
    "\n",
    "Successivamente, inserisci casualmente queste parole negli spazi vuoti (indicati con \"_\") nella seguente frase:\n",
    "\n",
    "*\"In epoche passate, viveva una donna saggia che era molto orgogliosa dell'antico __ che proteggeva. Quando un anziano del villaggio venne a chiederle consiglio su come garantire al meglio un raccolto abbondante e le offrì il __ come dono, i suoi occhi si spalancarono e lei esclamò una sola parola, \"__\".  \n",
    "Radunò il villaggio e, per i successivi 100 giorni, su sua richiesta, gli abitanti cercarono nella foresta un __.  \n",
    "Nel 101° giorno, il bambino più giovane del villaggio trovò ciò che stavano cercando e tutti corsero dalla donna saggia per donarglielo.  \n",
    "Con un sorriso da un orecchio all’altro, e cantando canti di festa, la donna saggia guardò i suoi compaesani e disse: \"Ora è giunto il tempo del banchetto - nessuno rimarrà mai più senza _!\" Ci fu grande gioia e celebrazione.\"*\n"
   ]
  },
  {
   "cell_type": "code",
   "execution_count": 28,
   "metadata": {},
   "outputs": [],
   "source": [
    "lista_parole = [\n",
    "    'INSEDIAMENTO', 'SEPARAZIONE', 'DIFFERENZA', 'APPLICAZIONE', 'ATTEGGIAMENTO', 'VERDURA', 'IMPERO', 'RICEVIMENTO',\n",
    "    'IGNORANZA', 'BIOGRAFIA', 'VISIONE', 'AGENTE DI POLIZIA', 'PROVA', 'PRESTAZIONE', 'PRESENTAZIONE', 'PARENTE',\n",
    "    'GIUSTIFICAZIONE', 'FILOSOFIA', 'DIREZIONE', 'BENEFICIARIO', 'BATTERIA', 'CERIMONIA', 'AGONIA', 'RECUPERO',\n",
    "    'ALFABETIZZAZIONE', 'CONSEGNA', 'SERBATOIO', 'VOLONTARIO', 'DEPOSITO', 'BIRILLO DA BOWLING', 'NEMICO', 'ANNUNCIO',\n",
    "    'CARAMELLA ZUCCHERATA', 'FULMINE', 'PALLONCINO', 'COPERTA', 'SCOPERTA', 'PENALITÀ', 'GENERALE', 'ALPACA',\n",
    "    'VANTAGGIO', 'HOT DOG', 'ABITO', 'MATEMATICA', 'VARIANTE'\n",
    "]\n",
    "\n"
   ]
  },
  {
   "cell_type": "code",
   "execution_count": null,
   "metadata": {},
   "outputs": [],
   "source": []
  },
  {
   "cell_type": "markdown",
   "metadata": {},
   "source": [
    "Esempio di output\n",
    "\n",
    "\n",
    "\"In epoche passate, viveva una donna saggia che era molto orgogliosa dell'antico APPLICAZIONE che proteggeva. \n",
    "Quando un anziano del villaggio venne a chiederle consiglio su come garantire al meglio un raccolto abbondante \n",
    "e le offrì il DEPOSITO come dono, i suoi occhi si spalancarono e lei esclamò una sola parola, \"PRESTAZIONE\".  \n",
    "\n",
    "Radunò il villaggio e, per i successivi 100 giorni, su sua richiesta, gli abitanti cercarono nella foresta un BIRILLO DA BOWLING. \n",
    "Nel 101° giorno, il bambino più giovane del villaggio trovò ciò che stavano cercando e tutti corsero dalla donna saggia per donarglielo. \n",
    "Con un sorriso da un orecchio all’altro, e cantando canti di festa, la donna saggia guardò i suoi compaesani e disse: \n",
    "\"Ora è giunto il tempo del banchetto - nessuno rimarrà mai più senza GIUSTIFICAZIONE!\"  \n",
    "\n",
    "Ci fu grande gioia e celebrazione.\""
   ]
  },
  {
   "cell_type": "code",
   "execution_count": null,
   "metadata": {},
   "outputs": [],
   "source": []
  }
 ],
 "metadata": {
  "kernelspec": {
   "display_name": "base",
   "language": "python",
   "name": "python3"
  },
  "language_info": {
   "codemirror_mode": {
    "name": "ipython",
    "version": 3
   },
   "file_extension": ".py",
   "mimetype": "text/x-python",
   "name": "python",
   "nbconvert_exporter": "python",
   "pygments_lexer": "ipython3",
   "version": "3.12.7"
  }
 },
 "nbformat": 4,
 "nbformat_minor": 2
}
